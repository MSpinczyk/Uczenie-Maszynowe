{
  "nbformat": 4,
  "nbformat_minor": 0,
  "metadata": {
    "colab": {
      "name": "michal_spinczyk_lab9.ipynb",
      "provenance": [],
      "collapsed_sections": [],
      "toc_visible": true
    },
    "kernelspec": {
      "name": "python3",
      "display_name": "Python 3"
    },
    "language_info": {
      "name": "python"
    }
  },
  "cells": [
    {
      "cell_type": "markdown",
      "source": [
        "# Anomaly detection\n",
        "\n",
        "### Michał Spinczyk\n",
        "Link do danych:\n",
        "https://drive.google.com/file/d/13ijeMISDkQ2IU6-9sNedjgjI9HCctWh-/view"
      ],
      "metadata": {
        "id": "nuK6aajm_SnT"
      }
    },
    {
      "cell_type": "code",
      "source": [
        "import numpy as np  \n",
        "import pandas as pd  \n",
        "import matplotlib.pyplot as plt  \n",
        "from scipy.io import loadmat  \n",
        " \n",
        " \n",
        "data = loadmat('ex8data1.mat')  \n",
        "X = data['X']   \n",
        "print(X.shape)"
      ],
      "metadata": {
        "colab": {
          "base_uri": "https://localhost:8080/"
        },
        "id": "wzL37q69_p_5",
        "outputId": "3f4a10b5-9446-4f9a-aa02-2fb5279bee8b"
      },
      "execution_count": 93,
      "outputs": [
        {
          "output_type": "stream",
          "name": "stdout",
          "text": [
            "(307, 2)\n"
          ]
        }
      ]
    },
    {
      "cell_type": "markdown",
      "source": [
        "## Visualise the dataset"
      ],
      "metadata": {
        "id": "53JsPi74D8zt"
      }
    },
    {
      "cell_type": "code",
      "execution_count": 94,
      "metadata": {
        "colab": {
          "base_uri": "https://localhost:8080/",
          "height": 280
        },
        "id": "Sd2tRJSy9QJz",
        "outputId": "2575eef4-fd35-42e5-8780-ffca5d13f501"
      },
      "outputs": [
        {
          "output_type": "display_data",
          "data": {
            "text/plain": [
              "<Figure size 432x288 with 1 Axes>"
            ],
            "image/png": "[encoded data removed]"
          },
          "metadata": {
            "needs_background": "light"
          }
        }
      ],
      "source": [
        "plt.figure()\n",
        "plt.scatter(X[:,0],X[:,1])\n",
        "plt.xlabel(\"Throughput (mb/s)\")\n",
        "plt.ylabel(\"Latency (ms)\")\n",
        "plt.show()"
      ]
    },
    {
      "cell_type": "markdown",
      "source": [
        "## Plot the histogram of the data"
      ],
      "metadata": {
        "id": "KrbKn7NYEUeD"
      }
    },
    {
      "cell_type": "code",
      "source": [
        "plt.figure()\n",
        "plt.hist(X[:,0])\n",
        "plt.plot()\n",
        "plt.title(\"Throughput (mb/s)\")\n",
        "plt.show()\n",
        "\n",
        "plt.figure()\n",
        "plt.hist(X[:,1])\n",
        "plt.title(\"Latency (ms)\")\n",
        "plt.plot()\n",
        "plt.show()"
      ],
      "metadata": {
        "colab": {
          "base_uri": "https://localhost:8080/",
          "height": 545
        },
        "id": "o-latKhPBFGv",
        "outputId": "3f73a4aa-a167-45f3-9806-f467a18b7bd0"
      },
      "execution_count": 95,
      "outputs": [
        {
          "output_type": "display_data",
          "data": {
            "text/plain": [
              "<Figure size 432x288 with 1 Axes>"
            ],
            "image/png": "[encoded data removed]"
          },
          "metadata": {
            "needs_background": "light"
          }
        },
        {
          "output_type": "display_data",
          "data": {
            "text/plain": [
              "<Figure size 432x288 with 1 Axes>"
            ],
            "image/png": "[encoded data removed]"
          },
          "metadata": {
            "needs_background": "light"
          }
        }
      ]
    },
    {
      "cell_type": "markdown",
      "source": [
        "## Gaussian distribution"
      ],
      "metadata": {
        "id": "zToG0bRYEnzS"
      }
    },
    {
      "cell_type": "code",
      "source": [
        "def estimate_gaussian(X):  \n",
        "    mu = np.mean(X, axis = 0)\n",
        "    sigma = np.std(X, axis = 0)\n",
        "    return mu, sigma\n",
        "\n",
        "mu, sigma = estimate_gaussian(X)\n",
        "print(mu, sigma)"
      ],
      "metadata": {
        "colab": {
          "base_uri": "https://localhost:8080/"
        },
        "id": "GhSZQY9VBRmr",
        "outputId": "e7005988-2836-4007-d0fa-7ea35d135c13"
      },
      "execution_count": 96,
      "outputs": [
        {
          "output_type": "stream",
          "name": "stdout",
          "text": [
            "[14.11222578 14.99771051] [1.35374717 1.3075723 ]\n"
          ]
        }
      ]
    },
    {
      "cell_type": "markdown",
      "source": [
        "## Calculate probability"
      ],
      "metadata": {
        "id": "bPvxK2-tE0w9"
      }
    },
    {
      "cell_type": "code",
      "source": [
        "Xval = data['Xval']  \n",
        "yval = data['yval']"
      ],
      "metadata": {
        "id": "pevT2_yiCcnN"
      },
      "execution_count": 97,
      "outputs": []
    },
    {
      "cell_type": "markdown",
      "source": [
        "### Calculate the probability for X data"
      ],
      "metadata": {
        "id": "WI-5q2YSFAgV"
      }
    },
    {
      "cell_type": "code",
      "source": [
        "from scipy import stats\n",
        "X_prob = stats.norm.pdf(X[:50,:],loc = mu,scale = sigma)\n",
        "print(X_prob)"
      ],
      "metadata": {
        "id": "6BIN4OlXCth-",
        "colab": {
          "base_uri": "https://localhost:8080/"
        },
        "outputId": "01f13ae2-f9df-49da-9119-6964e7d47686"
      },
      "execution_count": 98,
      "outputs": [
        {
          "output_type": "stream",
          "name": "stdout",
          "text": [
            "[[0.21620977 0.29928475]\n",
            " [0.25745208 0.19539236]\n",
            " [0.29413223 0.24631896]\n",
            " [0.24721192 0.20353285]\n",
            " [0.27251547 0.23369303]\n",
            " [0.2918119  0.14549894]\n",
            " [0.18713958 0.25600918]\n",
            " [0.15117648 0.24151341]\n",
            " [0.09356331 0.19949913]\n",
            " [0.166609   0.30423483]\n",
            " [0.29338708 0.09037578]\n",
            " [0.29448769 0.28766234]\n",
            " [0.25559237 0.27797121]\n",
            " [0.25595621 0.27173864]\n",
            " [0.2932714  0.12881868]\n",
            " [0.2944456  0.28087687]\n",
            " [0.29288017 0.29975441]\n",
            " [0.28518331 0.3046332 ]\n",
            " [0.27727759 0.24946431]\n",
            " [0.09489765 0.10258106]\n",
            " [0.27027271 0.28011206]\n",
            " [0.29342161 0.30119392]\n",
            " [0.24110555 0.15516046]\n",
            " [0.29304288 0.29735436]\n",
            " [0.19607729 0.21044271]\n",
            " [0.15652979 0.15894753]\n",
            " [0.27590459 0.28665754]\n",
            " [0.25749622 0.29485051]\n",
            " [0.27667047 0.2921371 ]\n",
            " [0.2834953  0.27033816]\n",
            " [0.17068283 0.29362853]\n",
            " [0.29318613 0.30032058]\n",
            " [0.20432637 0.30239897]\n",
            " [0.19577297 0.30455403]\n",
            " [0.10897052 0.19181707]\n",
            " [0.24595126 0.18619014]\n",
            " [0.14063746 0.25129732]\n",
            " [0.29463374 0.27874829]\n",
            " [0.28052751 0.25820116]\n",
            " [0.29371857 0.2893207 ]\n",
            " [0.28168158 0.22787374]\n",
            " [0.22524293 0.2951411 ]\n",
            " [0.28218942 0.29681019]\n",
            " [0.29429662 0.2914136 ]\n",
            " [0.26674962 0.26040452]\n",
            " [0.28856013 0.20393606]\n",
            " [0.11137104 0.29689312]\n",
            " [0.29467721 0.23859757]\n",
            " [0.28904196 0.26899018]\n",
            " [0.18556585 0.19394144]]\n"
          ]
        }
      ]
    },
    {
      "cell_type": "code",
      "source": [
        "pval = np.zeros((Xval.shape[0], Xval.shape[1]))  \n",
        "pval[:,0] = stats.norm.pdf(Xval[:,0],loc = mu[0],scale = sigma[0])\n",
        "pval[:,1] = stats.norm.pdf(Xval[:,1],loc = mu[1],scale = sigma[1])"
      ],
      "metadata": {
        "id": "GdrUkVC_EVzE"
      },
      "execution_count": 99,
      "outputs": []
    },
    {
      "cell_type": "markdown",
      "source": [
        "## Selecting the threshold"
      ],
      "metadata": {
        "id": "_gqOJLLWE7Do"
      }
    },
    {
      "cell_type": "code",
      "source": [
        "from sklearn.metrics import f1_score\n",
        "\n",
        "def select_threshold(pval, yval): \n",
        "  threshold = np.linspace(pval.min(),pval.max(),10000)\n",
        "  best_eps = threshold[0]\n",
        "  current_eps = best_eps\n",
        "  pred = np.zeros((len(yval),1))\n",
        "\n",
        "  for k in range(len(yval)):\n",
        "      if pval[k,0] > current_eps or pval[k,1] > current_eps:\n",
        "          pred[k] = 1\n",
        "\n",
        "  best_f1 = f1_score(yval, pred)\n",
        "\n",
        "  for i in range(len(threshold)):\n",
        "      current_eps = threshold[i]\n",
        "      pred = np.zeros((len(yval),1))\n",
        "\n",
        "      for k in range(len(yval)):\n",
        "          if pval[k,0] < current_eps or pval[k,1] < current_eps:\n",
        "              pred[k] = 1\n",
        "\n",
        "      current_f1 = f1_score(yval, pred)\n",
        "      \n",
        "      if current_f1 > best_f1:\n",
        "          best_eps = current_eps\n",
        "          best_f1 = current_f1\n",
        "\n",
        "  return best_eps, best_f1"
      ],
      "metadata": {
        "id": "ILE_aYEtFQRR"
      },
      "execution_count": 100,
      "outputs": []
    },
    {
      "cell_type": "markdown",
      "source": [
        "## Anomaly detection result"
      ],
      "metadata": {
        "id": "YI4BjO81FGb5"
      }
    },
    {
      "cell_type": "code",
      "source": [
        "best_eps, best_f1 = select_threshold(pval,yval)\n",
        "print(best_eps, best_f1)\n",
        "\n",
        "pred = np.zeros((len(yval),1))\n",
        "for k in range(len(yval)):\n",
        "    if pval[k,0] < best_eps or pval[k,1] < best_eps:\n",
        "        pred[k] = 1"
      ],
      "metadata": {
        "colab": {
          "base_uri": "https://localhost:8080/"
        },
        "id": "eaVlYlGZ8lCN",
        "outputId": "ae46c974-976d-4d07-a613-a646652bfc2b"
      },
      "execution_count": 101,
      "outputs": [
        {
          "output_type": "stream",
          "name": "stdout",
          "text": [
            "0.0003966715195093453 0.8750000000000001\n"
          ]
        }
      ]
    },
    {
      "cell_type": "code",
      "source": [
        "plt.figure()\n",
        "scatter = plt.scatter(Xval[:,0],Xval[:,1], c = pred, cmap = \"bwr\")\n",
        "plt.xlabel(\"Throughput (mb/s)\")\n",
        "plt.ylabel(\"Latency (ms)\")\n",
        "plt.legend(handles=scatter.legend_elements()[0], labels = ['Normal', 'Anomaly'])\n",
        "plt.show()"
      ],
      "metadata": {
        "colab": {
          "base_uri": "https://localhost:8080/",
          "height": 279
        },
        "id": "fhnZcvRK9mXr",
        "outputId": "c4c7006e-1dee-40d5-a7e5-87a78879786f"
      },
      "execution_count": 102,
      "outputs": [
        {
          "output_type": "display_data",
          "data": {
            "text/plain": [
              "<Figure size 432x288 with 1 Axes>"
            ],
            "image/png": "[encoded data removed]"
          },
          "metadata": {
            "needs_background": "light"
          }
        }
      ]
    }
  ]
}