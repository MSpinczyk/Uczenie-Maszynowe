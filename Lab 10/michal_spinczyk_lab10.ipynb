{
  "nbformat": 4,
  "nbformat_minor": 0,
  "metadata": {
    "colab": {
      "name": "michal_spinczyk_lab10.ipynb",
      "provenance": [],
      "collapsed_sections": [],
      "toc_visible": true
    },
    "kernelspec": {
      "name": "python3",
      "display_name": "Python 3"
    },
    "language_info": {
      "name": "python"
    }
  },
  "cells": [
    {
      "cell_type": "markdown",
      "source": [
        "# Ensemble methods\n",
        "\n",
        "**Michał Spinczyk**"
      ],
      "metadata": {
        "id": "vxjNJpQ7UNPn"
      }
    },
    {
      "cell_type": "markdown",
      "source": [
        "## Single Classifier vs Bagging vs Boosting"
      ],
      "metadata": {
        "id": "mkYPYSx0JORN"
      }
    },
    {
      "cell_type": "markdown",
      "source": [
        "### Importing necessary libraries and dataset"
      ],
      "metadata": {
        "id": "suAHgeG9Jb9W"
      }
    },
    {
      "cell_type": "code",
      "execution_count": 32,
      "metadata": {
        "id": "8sDsqefdT8Pb"
      },
      "outputs": [],
      "source": [
        "from sklearn.datasets import load_wine\n",
        "from sklearn.tree import DecisionTreeClassifier\n",
        "from sklearn.ensemble import BaggingClassifier, AdaBoostClassifier, GradientBoostingClassifier\n",
        "from sklearn.model_selection import cross_val_score, StratifiedKFold\n",
        "import pandas as pd\n",
        "import numpy as np\n",
        "import matplotlib.pyplot as plt\n",
        "\n",
        "wine_data = load_wine()"
      ]
    },
    {
      "cell_type": "markdown",
      "source": [
        "### Creating models and printing scores"
      ],
      "metadata": {
        "id": "TSwusANcJx_t"
      }
    },
    {
      "cell_type": "code",
      "source": [
        "clf_1 = DecisionTreeClassifier(random_state=1, min_samples_leaf = 3)\n",
        "clf_1_1 = DecisionTreeClassifier(random_state=1, min_samples_leaf = 3,max_depth = 1)\n",
        "clf_2 = BaggingClassifier(base_estimator = clf_1, n_estimators = 50, random_state=1)\n",
        "clf_3 = AdaBoostClassifier(base_estimator = clf_1_1, n_estimators=50, random_state=1, algorithm = 'SAMME')\n",
        "clf_4 = GradientBoostingClassifier(n_estimators=50, subsample = 0.5, learning_rate=1.0, max_depth=1, random_state=1)\n",
        "\n",
        "decision_tree = cross_val_score(clf_1, wine_data.data, wine_data.target, cv=5)\n",
        "bagging = cross_val_score(clf_2, wine_data.data, wine_data.target, cv=5)\n",
        "ada_boost = cross_val_score(clf_3, wine_data.data, wine_data.target, cv=5)\n",
        "gradient_boosting = cross_val_score(clf_4, wine_data.data, wine_data.target, cv=5)\n",
        "\n",
        "print(\"Decision tree scores: {}, (avg: {})\".format(decision_tree, np.average(decision_tree)))\n",
        "print(\"Bagging scores: {}, (avg: {})\".format(bagging, np.average(bagging)))\n",
        "print(\"AdaBoost scores: {}, (avg: {})\".format(ada_boost, np.average(ada_boost)))\n",
        "print(\"Gradient boosting scores: {}, (avg: {})\".format(gradient_boosting, np.average(gradient_boosting)))"
      ],
      "metadata": {
        "colab": {
          "base_uri": "https://localhost:8080/"
        },
        "id": "Yi7P_48XYj4s",
        "outputId": "dfd979e0-38e7-41e7-d255-ffcb0182b9c5"
      },
      "execution_count": 33,
      "outputs": [
        {
          "output_type": "stream",
          "name": "stdout",
          "text": [
            "Decision tree scores: [0.94444444 0.80555556 0.80555556 0.91428571 0.97142857], (avg: 0.8882539682539681)\n",
            "Bagging scores: [0.91666667 0.91666667 0.94444444 0.97142857 1.        ], (avg: 0.9498412698412698)\n",
            "AdaBoost scores: [0.83333333 0.91666667 0.91666667 1.         1.        ], (avg: 0.9333333333333332)\n",
            "Gradient boosting scores: [0.88888889 0.91666667 0.97222222 0.97142857 1.        ], (avg: 0.9498412698412698)\n"
          ]
        }
      ]
    },
    {
      "cell_type": "markdown",
      "source": [
        "### Determining an approximated number of iterations after which the Gradient Boosting model yields almost no further improvement"
      ],
      "metadata": {
        "id": "p359x_K_KFwe"
      }
    },
    {
      "cell_type": "code",
      "source": [
        "clf = GradientBoostingClassifier(n_estimators=50, subsample = 0.5, learning_rate=1.0, max_depth=1, random_state=1)\n",
        "\n",
        "clf.fit(wine_data.data, wine_data.target)\n",
        "\n",
        "oob = np.cumsum(clf.oob_improvement_)\n",
        "\n",
        "print(oob)\n",
        "print(len(oob))\n",
        "\n",
        "iterations = np.linspace(1,50,50)\n",
        "print(iterations)"
      ],
      "metadata": {
        "id": "UUgnLGUdhxb3",
        "colab": {
          "base_uri": "https://localhost:8080/"
        },
        "outputId": "6d0e031a-2132-4470-c367-cb524f200707"
      },
      "execution_count": 34,
      "outputs": [
        {
          "output_type": "stream",
          "name": "stdout",
          "text": [
            "[0.70480913 0.78898321 0.82350824 0.85190548 0.86147413 0.84892542\n",
            " 0.84854777 0.85094981 0.85371896 0.85811652 0.85710108 0.85697538\n",
            " 0.85614239 0.85352186 0.85254926 0.85304529 0.85381251 0.85365468\n",
            " 0.85300144 0.85290745 0.8533147  0.8525165  0.85241097 0.85239872\n",
            " 0.85236902 0.85222116 0.85195162 0.85244364 0.85243927 0.85240267\n",
            " 0.8523588  0.85235417 0.85232354 0.85231731 0.85227048 0.85226114\n",
            " 0.8522629  0.85225759 0.85225186 0.85226509 0.85225037 0.85222533\n",
            " 0.85222254 0.85221793 0.8522077  0.85221045 0.85221504 0.85221276\n",
            " 0.85220837 0.85219632]\n",
            "50\n",
            "[ 1.  2.  3.  4.  5.  6.  7.  8.  9. 10. 11. 12. 13. 14. 15. 16. 17. 18.\n",
            " 19. 20. 21. 22. 23. 24. 25. 26. 27. 28. 29. 30. 31. 32. 33. 34. 35. 36.\n",
            " 37. 38. 39. 40. 41. 42. 43. 44. 45. 46. 47. 48. 49. 50.]\n"
          ]
        }
      ]
    },
    {
      "cell_type": "code",
      "source": [
        "plt.figure(figsize = (10,6))\n",
        "plt.plot(iterations, oob)\n",
        "plt.xlabel(\"Iterations\")\n",
        "plt.ylabel(\"OOB loss\")\n",
        "plt.title(\"OOB loss to number of iterations\")\n",
        "plt.show()"
      ],
      "metadata": {
        "colab": {
          "base_uri": "https://localhost:8080/",
          "height": 404
        },
        "id": "I87CvMyKH79_",
        "outputId": "ea9e069e-ee39-4a8c-f843-e5ade7b50d95"
      },
      "execution_count": 35,
      "outputs": [
        {
          "output_type": "display_data",
          "data": {
            "text/plain": [
              "<Figure size 720x432 with 1 Axes>"
            ],
            "image/png": "[encoded data removed]"
          },
          "metadata": {
            "needs_background": "light"
          }
        }
      ]
    },
    {
      "cell_type": "markdown",
      "source": [
        "As can be seen Gradient Boosting model yields almost no further improvement after 5 iterations."
      ],
      "metadata": {
        "id": "G1j1g4WfKZGp"
      }
    }
  ]
}